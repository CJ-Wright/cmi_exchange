{
 "metadata": {
  "name": ""
 },
 "nbformat": 3,
 "nbformat_minor": 0,
 "worksheets": [
  {
   "cells": [
    {
     "cell_type": "heading",
     "level": 1,
     "metadata": {},
     "source": [
      "SrFit example for a simple linear fit to a noisy data."
     ]
    },
    {
     "cell_type": "markdown",
     "metadata": {},
     "source": [
      "Simulate linear data with some random Gaussian noise and plot the generated \"observed\" data (xobs, yobs)."
     ]
    },
    {
     "cell_type": "code",
     "collapsed": false,
     "input": [
      "import numpy as np\n",
      "%pylab inline\n",
      "xobs = np.arange(-10, 10.1)\n",
      "dyobs = 0.3 * np.ones_like(xobs)\n",
      "yobs = 0.5 * xobs + 3 + dyobs * np.random.randn(xobs.size)\n",
      "plot(xobs, yobs, 'x')\n",
      "title('y = 0.5*x + 3 generated with a normal noise at sigma=0.3')"
     ],
     "language": "python",
     "metadata": {},
     "outputs": [
      {
       "output_type": "stream",
       "stream": "stdout",
       "text": [
        "Populating the interactive namespace from numpy and matplotlib\n"
       ]
      },
      {
       "metadata": {},
       "output_type": "pyout",
       "prompt_number": 1,
       "text": [
        "<matplotlib.text.Text at 0x3e85e90>"
       ]
      },
      {
       "metadata": {},
       "output_type": "display_data",
       "png": "[encoded data removed]",
       "text": [
        "<matplotlib.figure.Figure at 0x3312210>"
       ]
      }
     ],
     "prompt_number": 1
    },
    {
     "cell_type": "markdown",
     "metadata": {},
     "source": [
      "We are going to define a line fitting regression using SrFit.\n",
      "At first we create a SrFit Profile object that holds the observed data."
     ]
    },
    {
     "cell_type": "code",
     "collapsed": false,
     "input": [
      "from diffpy.srfit.fitbase import Profile\n",
      "linedata = Profile()\n",
      "linedata.setObservedProfile(xobs, yobs, dyobs)"
     ],
     "language": "python",
     "metadata": {},
     "outputs": [],
     "prompt_number": 2
    },
    {
     "cell_type": "markdown",
     "metadata": {},
     "source": [
      "The second step is to create a FitContribution object, which associates observed profile with a mathematical model for the dependent variable."
     ]
    },
    {
     "cell_type": "code",
     "collapsed": false,
     "input": [
      "from diffpy.srfit.fitbase import FitContribution\n",
      "linefit = FitContribution('linefit')\n",
      "linefit.setProfile(linedata)\n",
      "linefit.setEquation(\"A * x + B\")"
     ],
     "language": "python",
     "metadata": {},
     "outputs": [],
     "prompt_number": 3
    },
    {
     "cell_type": "markdown",
     "metadata": {},
     "source": [
      " SrFit objects can be examined by calling their **show()** function.  SrFit\n",
      " parses the model equation and finds two parameters A, B at independent\n",
      " variable x.  The values of parameters A, B are at this stage undefined.\n"
     ]
    },
    {
     "cell_type": "code",
     "collapsed": false,
     "input": [
      "linefit.show()"
     ],
     "language": "python",
     "metadata": {},
     "outputs": [
      {
       "output_type": "stream",
       "stream": "stdout",
       "text": [
        "linefit\n",
        "-------------------------------------------------------------------------------\n",
        "A                    None\n",
        "B                    None\n",
        "dy                   [ 0.3  0.3  0.3  0.3  0.3  0.3  0.3  0.3  0.3  0.3  0.3  0\n",
        "x                    [-10.  -9.  -8.  -7.  -6.  -5.  -4.  -3.  -2.  -1.   0.   \n",
        "y                    [-1.83949659 -0.981338   -1.1781284  -0.52346779 -0.046267\n",
        "\n",
        "\n"
       ]
      }
     ],
     "prompt_number": 4
    },
    {
     "cell_type": "markdown",
     "metadata": {},
     "source": [
      "We can set A and B to some specific values and calculate model\n",
      "observations.  The x and y attributes of the FitContribution are \n",
      "the observed values, which may be re-sampled or truncated to a shorter \n",
      "fitting range."
     ]
    },
    {
     "cell_type": "code",
     "collapsed": false,
     "input": [
      "linefit.A\n",
      "linefit.A = 3\n",
      "linefit.B = 5\n",
      "print(linefit.A, linefit.A.value)\n",
      "print(linefit.B, linefit.B.value)"
     ],
     "language": "python",
     "metadata": {},
     "outputs": [
      {
       "output_type": "stream",
       "stream": "stdout",
       "text": [
        "(<diffpy.srfit.fitbase.parameter.Parameter object at 0x423ee10>, 3)\n",
        "(<diffpy.srfit.fitbase.parameter.Parameter object at 0x423ee90>, 5)\n"
       ]
      }
     ],
     "prompt_number": 5
    },
    {
     "cell_type": "markdown",
     "metadata": {},
     "source": [
      "**linefit.evaluate()** returns the modeled values and linefit.residual\n",
      "the difference between observed and modeled data scaled by estimated\n",
      "standard deviations."
     ]
    },
    {
     "cell_type": "code",
     "collapsed": false,
     "input": [
      "print(\"linefit.evaluate() =\", linefit.evaluate())\n",
      "print(\"linefit.residual() =\", linefit.residual())\n",
      "plot(xobs, yobs, 'x', linedata.x, linefit.evaluate(), '-')\n",
      "title('Line simulated at A=3, B=5')"
     ],
     "language": "python",
     "metadata": {},
     "outputs": [
      {
       "output_type": "stream",
       "stream": "stdout",
       "text": [
        "('linefit.evaluate() =', array([-25., -22., -19., -16., -13., -10.,  -7.,  -4.,  -1.,   2.,   5.,\n",
        "         8.,  11.,  14.,  17.,  20.,  23.,  26.,  29.,  32.,  35.]))\n",
        "('linefit.residual() =', array([-77.20167802, -70.06220667, -59.40623866, -51.58844071,\n",
        "       -43.17910823, -34.33121624, -25.77233125, -19.33739525,\n",
        "       -10.88984432,  -1.11893636,   5.75944657,  15.38156254,\n",
        "        24.26448016,  32.10291635,  40.61868301,  48.35937379,\n",
        "        56.38581393,  64.77457345,  73.39967781,  81.91100141,  88.04725337]))\n"
       ]
      },
      {
       "metadata": {},
       "output_type": "pyout",
       "prompt_number": 6,
       "text": [
        "<matplotlib.text.Text at 0x425e950>"
       ]
      },
      {
       "metadata": {},
       "output_type": "display_data",
       "png": "[encoded data removed]",
       "text": [
        "<matplotlib.figure.Figure at 0x42463d0>"
       ]
      }
     ],
     "prompt_number": 6
    },
    {
     "cell_type": "markdown",
     "metadata": {},
     "source": [
      " We want to find optimum model parameters that fit the simulated curve\n",
      " to the observations.  This is done by associating FitContribution with\n",
      " a FitRecipe object.  FitRecipe can manage multiple fit contributions and\n",
      " optimize all models to fit their respective profiles."
     ]
    },
    {
     "cell_type": "code",
     "collapsed": false,
     "input": [
      "from diffpy.srfit.fitbase import FitRecipe\n",
      "rec = FitRecipe()"
     ],
     "language": "python",
     "metadata": {},
     "outputs": [],
     "prompt_number": 7
    },
    {
     "cell_type": "markdown",
     "metadata": {},
     "source": [
      "clearFitHooks suppresses printout of iteration number"
     ]
    },
    {
     "cell_type": "code",
     "collapsed": false,
     "input": [
      "rec.clearFitHooks()\n",
      "\n",
      "rec.addContribution(linefit)\n",
      "rec.show()"
     ],
     "language": "python",
     "metadata": {},
     "outputs": [
      {
       "output_type": "stream",
       "stream": "stdout",
       "text": [
        "fit\n",
        "\n",
        "  linefit\n",
        "  -----------------------------------------------------------------------------\n",
        "  A                    3\n",
        "  B                    5\n",
        "  dy                   [ 0.3  0.3  0.3  0.3  0.3  0.3  0.3  0.3  0.3  0.3  0.3 \n",
        "  x                    [-10.  -9.  -8.  -7.  -6.  -5.  -4.  -3.  -2.  -1.   0. \n",
        "  y                    [-1.83949659 -0.981338   -1.1781284  -0.52346779 -0.0462\n",
        "\n",
        "\n"
       ]
      }
     ],
     "prompt_number": 8
    },
    {
     "cell_type": "markdown",
     "metadata": {},
     "source": [
      " FitContributions may have many parameters.  We need to tell the recipe\n",
      " which of them should be tuned by the fit."
     ]
    },
    {
     "cell_type": "code",
     "collapsed": false,
     "input": [
      "rec.addVar(rec.linefit.A)\n",
      "rec.addVar(rec.linefit.B)"
     ],
     "language": "python",
     "metadata": {},
     "outputs": [
      {
       "metadata": {},
       "output_type": "pyout",
       "prompt_number": 9,
       "text": [
        "<diffpy.srfit.fitbase.parameter.ParameterProxy at 0x445d7d0>"
       ]
      }
     ],
     "prompt_number": 9
    },
    {
     "cell_type": "markdown",
     "metadata": {},
     "source": [
      " The addVar function created two attributes A, B for the rec object\n",
      " which link ot the A and B parameters of the linefit contribution.\n"
     ]
    },
    {
     "cell_type": "code",
     "collapsed": false,
     "input": [
      "print(\"rec.A =\", rec.A)\n",
      "print(\"rec.A.value =\", rec.A.value)"
     ],
     "language": "python",
     "metadata": {},
     "outputs": [
      {
       "output_type": "stream",
       "stream": "stdout",
       "text": [
        "('rec.A =', <diffpy.srfit.fitbase.parameter.ParameterProxy object at 0x445d6d0>)\n",
        "('rec.A.value =', 3)\n"
       ]
      }
     ],
     "prompt_number": 10
    },
    {
     "cell_type": "markdown",
     "metadata": {},
     "source": [
      " The names of the declared variables are stored in a rec.names\n",
      " and the corresponding values in rec.values."
     ]
    },
    {
     "cell_type": "code",
     "collapsed": false,
     "input": [
      "print(\"rec.values =\", rec.values)\n",
      "print(\"rec.names =\", rec.names)"
     ],
     "language": "python",
     "metadata": {},
     "outputs": [
      {
       "output_type": "stream",
       "stream": "stdout",
       "text": [
        "('rec.values =', array([3, 5]))\n",
        "('rec.names =', ['A', 'B'])\n"
       ]
      }
     ],
     "prompt_number": 11
    },
    {
     "cell_type": "markdown",
     "metadata": {},
     "source": [
      " Finally the recipe objects provides a residual() function to calculate\n",
      " the difference between the observed and simulated values.  The residual\n",
      " function can accept a list of new variable values in the same order as\n",
      " rec.names."
     ]
    },
    {
     "cell_type": "code",
     "collapsed": false,
     "input": [
      "print(\"rec.residual() =\", rec.residual())\n",
      "print(\"rec.residual([2, 4]) =\", rec.residual([2, 4]))"
     ],
     "language": "python",
     "metadata": {},
     "outputs": [
      {
       "output_type": "stream",
       "stream": "stdout",
       "text": [
        "('rec.residual() =', array([-77.20167802, -70.06220667, -59.40623866, -51.58844071,\n",
        "       -43.17910823, -34.33121624, -25.77233125, -19.33739525,\n",
        "       -10.88984432,  -1.11893636,   5.75944657,  15.38156254,\n",
        "        24.26448016,  32.10291635,  40.61868301,  48.35937379,\n",
        "        56.38581393,  64.77457345,  73.39967781,  81.91100141,  88.04725337]))\n",
        "('rec.residual([2, 4]) =', array([-47.20167802, -43.39554   , -36.07290533, -31.58844071,\n",
        "       -26.51244157, -20.99788291, -15.77233125, -12.67072859,\n",
        "        -7.55651099,  -1.11893636,   2.42611324,   8.71489588,\n",
        "        14.26448016,  18.76958302,  23.95201635,  28.35937379,\n",
        "        33.05248059,  38.10790678,  43.39967781,  48.57766807,  51.3805867 ]))\n"
       ]
      }
     ],
     "prompt_number": 12
    },
    {
     "cell_type": "markdown",
     "metadata": {},
     "source": [
      "The FitRecipe.residual function can be directly used with the scipy\n",
      "leastsq function for minimizing a sum of squares."
     ]
    },
    {
     "cell_type": "code",
     "collapsed": false,
     "input": [
      "from scipy.optimize import leastsq\n",
      "leastsq(rec.residual, rec.values)"
     ],
     "language": "python",
     "metadata": {},
     "outputs": [
      {
       "metadata": {},
       "output_type": "pyout",
       "prompt_number": 13,
       "text": [
        "(array([ 0.5007377 ,  3.02689448]), 2)"
       ]
      }
     ],
     "prompt_number": 13
    },
    {
     "cell_type": "markdown",
     "metadata": {},
     "source": [
      " Recipe variables and the linked line-function parameters are set to the\n",
      " new optimized values."
     ]
    },
    {
     "cell_type": "code",
     "collapsed": false,
     "input": [
      "print(rec.names, \"-->\", rec.values)\n",
      "linefit.show()"
     ],
     "language": "python",
     "metadata": {},
     "outputs": [
      {
       "output_type": "stream",
       "stream": "stdout",
       "text": [
        "(['A', 'B'], '-->', array([ 0.5007377 ,  3.02689448]))\n",
        "linefit\n",
        "-------------------------------------------------------------------------------\n",
        "A                    0.500737698564\n",
        "B                    3.02689447576\n",
        "dy                   [ 0.3  0.3  0.3  0.3  0.3  0.3  0.3  0.3  0.3  0.3  0.3  0\n",
        "x                    [-10.  -9.  -8.  -7.  -6.  -5.  -4.  -3.  -2.  -1.   0.   \n",
        "y                    [-1.83949659 -0.981338   -1.1781284  -0.52346779 -0.046267\n",
        "\n",
        "\n"
       ]
      }
     ],
     "prompt_number": 14
    },
    {
     "cell_type": "markdown",
     "metadata": {},
     "source": [
      " The calculated function is available in the ycalc attribute of the profile.\n",
      " It can be also accessed from the \"linefit\" contribution attribute of the\n",
      " recipe as \"rec.linefit.profile.ycalc\"."
     ]
    },
    {
     "cell_type": "code",
     "collapsed": false,
     "input": [
      "plot(linedata.x, linedata.y, 'x', linedata.x, linedata.ycalc, '-')\n",
      "title('Line fit using the leastsq least-squares optimizer')"
     ],
     "language": "python",
     "metadata": {},
     "outputs": [
      {
       "metadata": {},
       "output_type": "pyout",
       "prompt_number": 15,
       "text": [
        "<matplotlib.text.Text at 0x4795810>"
       ]
      },
      {
       "metadata": {},
       "output_type": "display_data",
       "png": "[encoded data removed]",
       "text": [
        "<matplotlib.figure.Figure at 0x477f250>"
       ]
      }
     ],
     "prompt_number": 15
    },
    {
     "cell_type": "markdown",
     "metadata": {},
     "source": [
      "The FitRecipe.scalarResidual function returns the sum of squares and can\n",
      "be used with a minimizer that expects scalar function:"
     ]
    },
    {
     "cell_type": "code",
     "collapsed": false,
     "input": [
      "from scipy.optimize import fmin\n",
      "fmin(rec.scalarResidual, [1, 1])\n",
      "print(rec.names, \"-->\", rec.values)\n",
      "plot(linedata.x, linedata.y, 'x', linedata.x, linedata.ycalc, '-')\n",
      "title('Line fit using the fmin scalar optimizer')"
     ],
     "language": "python",
     "metadata": {},
     "outputs": [
      {
       "output_type": "stream",
       "stream": "stdout",
       "text": [
        "Optimization terminated successfully.\n",
        "         Current function value: 13.247799\n",
        "         Iterations: 47\n",
        "         Function evaluations: 88\n",
        "(['A', 'B'], '-->', array([ 0.5007246 ,  3.02693361]))\n"
       ]
      },
      {
       "metadata": {},
       "output_type": "pyout",
       "prompt_number": 16,
       "text": [
        "<matplotlib.text.Text at 0x48aa550>"
       ]
      },
      {
       "metadata": {},
       "output_type": "display_data",
       "png": "[encoded data removed]",
       "text": [
        "<matplotlib.figure.Figure at 0x4793590>"
       ]
      }
     ],
     "prompt_number": 16
    },
    {
     "cell_type": "markdown",
     "metadata": {},
     "source": [
      "For a converged fit recipe, the details of the fit can be extracted\n",
      " with the FitResults class."
     ]
    },
    {
     "cell_type": "code",
     "collapsed": false,
     "input": [
      "from diffpy.srfit.fitbase import FitResults\n",
      "res = FitResults(rec)\n",
      "print(res)"
     ],
     "language": "python",
     "metadata": {},
     "outputs": [
      {
       "output_type": "stream",
       "stream": "stdout",
       "text": [
        "Overall\n",
        "-------------------------------------------------------------------------------\n",
        "Residual       13.24779867 \n",
        "Contributions  13.24779867 \n",
        "Restraints     0.00000000  \n",
        "Chi2           13.24779867 \n",
        "Reduced Chi2   0.69725256  \n",
        "Rw             0.05552977  \n",
        "\n",
        "Variables\n",
        "-------------------------------------------------------------------------------\n",
        "A  5.00724599e-01 +/- 1.08112497e-02\n",
        "B  3.02693361e+00 +/- 6.54653675e-02\n",
        "\n",
        "Variable Correlations greater than 25%\n",
        "-------------------------------------------------------------------------------\n",
        "No correlations greater than 25%\n",
        "\n"
       ]
      }
     ],
     "prompt_number": 17
    },
    {
     "cell_type": "markdown",
     "metadata": {},
     "source": [
      "Variables defined in the recipe can be fixed to a constant value."
     ]
    },
    {
     "cell_type": "code",
     "collapsed": false,
     "input": [
      "rec.fix(B=0)"
     ],
     "language": "python",
     "metadata": {},
     "outputs": [],
     "prompt_number": 18
    },
    {
     "cell_type": "markdown",
     "metadata": {},
     "source": [
      "The fixed variables can be checked using the \"fixednames\" and\n",
      " \"fixedvalues\" attributes of a recipe."
     ]
    },
    {
     "cell_type": "code",
     "collapsed": false,
     "input": [
      "print(\"free:\", rec.names, \"-->\", rec.names)\n",
      "print(\"fixed:\", rec.fixednames, \"-->\", rec.fixedvalues)"
     ],
     "language": "python",
     "metadata": {},
     "outputs": [
      {
       "output_type": "stream",
       "stream": "stdout",
       "text": [
        "('free:', ['A'], '-->', ['A'])\n",
        "('fixed:', ['B'], '-->', array([0]))\n"
       ]
      }
     ],
     "prompt_number": 19
    },
    {
     "cell_type": "markdown",
     "metadata": {},
     "source": [
      "The fit can be rerun with a constant variable B."
     ]
    },
    {
     "cell_type": "code",
     "collapsed": false,
     "input": [
      "leastsq(rec.residual, rec.values)\n",
      "print(FitResults(rec))\n",
      "plot(linedata.x, linedata.y, 'x', linedata.x, linedata.ycalc, '-')\n",
      "title('Line fit for variable B fixed to B=0')"
     ],
     "language": "python",
     "metadata": {},
     "outputs": [
      {
       "output_type": "stream",
       "stream": "stdout",
       "text": [
        "Overall\n",
        "-------------------------------------------------------------------------------\n",
        "Residual       2151.06883653\n",
        "Contributions  2151.06883653\n",
        "Restraints     0.00000000  \n",
        "Chi2           2151.06883653\n",
        "Reduced Chi2   107.55344183\n",
        "Rw             0.70758917  \n",
        "\n",
        "Variables\n",
        "-------------------------------------------------------------------------------\n",
        "A  5.00737699e-01 +/- 1.08112496e-02\n",
        "\n",
        "Fixed Variables\n",
        "-------------------------------------------------------------------------------\n",
        "B  0.00000000e+00\n",
        "\n",
        "Variable Correlations greater than 25%\n",
        "-------------------------------------------------------------------------------\n",
        "No correlations greater than 25%\n",
        "\n"
       ]
      },
      {
       "metadata": {},
       "output_type": "pyout",
       "prompt_number": 20,
       "text": [
        "<matplotlib.text.Text at 0x4b4ad50>"
       ]
      },
      {
       "metadata": {},
       "output_type": "display_data",
       "png": "[encoded data removed]",
       "text": [
        "<matplotlib.figure.Figure at 0x330c550>"
       ]
      }
     ],
     "prompt_number": 20
    },
    {
     "cell_type": "markdown",
     "metadata": {},
     "source": [
      "Fixed variables may be released with the \"free\" function.\n",
      " free(\"all\") releases all fixed variables."
     ]
    },
    {
     "cell_type": "code",
     "collapsed": false,
     "input": [
      "rec.free('all')"
     ],
     "language": "python",
     "metadata": {},
     "outputs": [],
     "prompt_number": 21
    },
    {
     "cell_type": "markdown",
     "metadata": {},
     "source": [
      "Variables may be constrained to a result of an expression."
     ]
    },
    {
     "cell_type": "code",
     "collapsed": false,
     "input": [
      "rec.constrain(rec.A, \"2 * B\")"
     ],
     "language": "python",
     "metadata": {},
     "outputs": [],
     "prompt_number": 22
    },
    {
     "cell_type": "markdown",
     "metadata": {},
     "source": [
      "Perform linear fit where slope is twice the offset."
     ]
    },
    {
     "cell_type": "code",
     "collapsed": false,
     "input": [
      "leastsq(rec.residual, rec.values)\n",
      "print(FitResults(rec))\n",
      "plot(linedata.x, linedata.y, 'x', linedata.x, linedata.ycalc, '-')\n",
      "title('Line fit for variable A constrained to A = 2*B')"
     ],
     "language": "python",
     "metadata": {},
     "outputs": [
      {
       "output_type": "stream",
       "stream": "stdout",
       "text": [
        "Overall\n",
        "-------------------------------------------------------------------------------\n",
        "Residual       1799.85511327\n",
        "Contributions  1799.85511327\n",
        "Restraints     0.00000000  \n",
        "Chi2           1799.85511327\n",
        "Reduced Chi2   89.99275566 \n",
        "Rw             0.64725110  \n",
        "\n",
        "Variables\n",
        "-------------------------------------------------------------------------------\n",
        "B  2.69171507e-01 +/- 5.38729020e-03\n",
        "\n",
        "Variable Correlations greater than 25%\n",
        "-------------------------------------------------------------------------------\n",
        "No correlations greater than 25%\n",
        "\n"
       ]
      },
      {
       "metadata": {},
       "output_type": "pyout",
       "prompt_number": 23,
       "text": [
        "<matplotlib.text.Text at 0x4e04790>"
       ]
      },
      {
       "metadata": {},
       "output_type": "display_data",
       "png": "[encoded data removed]",
       "text": [
        "<matplotlib.figure.Figure at 0x4b682d0>"
       ]
      }
     ],
     "prompt_number": 23
    },
    {
     "cell_type": "markdown",
     "metadata": {},
     "source": [
      "Constraint expressions can be removed by calling the unconstrain function."
     ]
    },
    {
     "cell_type": "code",
     "collapsed": false,
     "input": [
      "rec.unconstrain(rec.A)"
     ],
     "language": "python",
     "metadata": {},
     "outputs": [],
     "prompt_number": 24
    },
    {
     "cell_type": "markdown",
     "metadata": {},
     "source": [
      " Variables may be restrained to a specific range.  Here \"ub\" is the upper\n",
      " boundary and \"sig\" acts as a standard deviation for ((x - ub)/sig)**2\n",
      " penalty function."
     ]
    },
    {
     "cell_type": "code",
     "collapsed": false,
     "input": [
      "arst = rec.restrain(rec.A, ub=0.2, sig=0.001)"
     ],
     "language": "python",
     "metadata": {},
     "outputs": [],
     "prompt_number": 25
    },
    {
     "cell_type": "markdown",
     "metadata": {},
     "source": [
      "Perform fit with the line slope restrained to a maximum value of 0.2:"
     ]
    },
    {
     "cell_type": "code",
     "collapsed": false,
     "input": [
      "leastsq(rec.residual, rec.values)\n",
      "print(FitResults(rec))\n",
      "plot(linedata.x, linedata.y, 'x', linedata.x, linedata.ycalc, '-')\n",
      "title('Line fit with A restrained to an upper bound of 0.2')"
     ],
     "language": "python",
     "metadata": {},
     "outputs": [
      {
       "output_type": "stream",
       "stream": "stdout",
       "text": [
        "Overall\n",
        "-------------------------------------------------------------------------------\n",
        "Residual       780.47524838\n",
        "Contributions  773.96687418\n",
        "Restraints     6.50837420  \n",
        "Chi2           773.96687418\n",
        "Reduced Chi2   38.69834371 \n",
        "Rw             0.42443893  \n",
        "\n",
        "Variables\n",
        "-------------------------------------------------------------------------------\n",
        "A  2.02551152e-01 +/- 9.95749480e-04\n",
        "B  3.02689447e+00 +/- 6.54653672e-02\n",
        "\n",
        "Variable Correlations greater than 25%\n",
        "-------------------------------------------------------------------------------\n",
        "No correlations greater than 25%\n",
        "\n"
       ]
      },
      {
       "metadata": {},
       "output_type": "pyout",
       "prompt_number": 26,
       "text": [
        "<matplotlib.text.Text at 0x4e34f90>"
       ]
      },
      {
       "metadata": {},
       "output_type": "display_data",
       "png": "[encoded data removed]",
       "text": [
        "<matplotlib.figure.Figure at 0x4895210>"
       ]
      }
     ],
     "prompt_number": 26
    },
    {
     "cell_type": "code",
     "collapsed": false,
     "input": [],
     "language": "python",
     "metadata": {},
     "outputs": []
    }
   ],
   "metadata": {}
  }
 ]
}