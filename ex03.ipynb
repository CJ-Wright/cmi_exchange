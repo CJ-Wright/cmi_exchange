{
 "metadata": {
  "name": ""
 },
 "nbformat": 3,
 "nbformat_minor": 0,
 "worksheets": [
  {
   "cells": [
    {
     "cell_type": "heading",
     "level": 1,
     "metadata": {},
     "source": [
      "SrFit example for a simple linear fit to a noisy data."
     ]
    },
    {
     "cell_type": "markdown",
     "metadata": {},
     "source": [
      "Simulate linear data with some random Gaussian noise and plot the generated \"observed\" data (xobs, yobs)."
     ]
    },
    {
     "cell_type": "code",
     "collapsed": false,
     "input": [
      "from __future__ import print_function\n",
      "import numpy as np\n",
      "%pylab --no-import-all inline\n",
      "xobs = np.arange(-10, 10.1)\n",
      "dyobs = 0.3 * np.ones_like(xobs)\n",
      "yobs = 0.5 * xobs + 3 + dyobs * np.random.randn(xobs.size)\n",
      "plot(xobs, yobs, 'x')\n",
      "title('y = 0.5*x + 3 generated with a normal noise at sigma=0.3')"
     ],
     "language": "python",
     "metadata": {},
     "outputs": [
      {
       "output_type": "stream",
       "stream": "stdout",
       "text": [
        "Populating the interactive namespace from numpy and matplotlib\n"
       ]
      },
      {
       "metadata": {},
       "output_type": "pyout",
       "prompt_number": 34,
       "text": [
        "<matplotlib.text.Text at 0x108e007d0>"
       ]
      },
      {
       "metadata": {},
       "output_type": "display_data",
       "png": "[encoded data removed]",
       "text": [
        "<matplotlib.figure.Figure at 0x107c0d410>"
       ]
      }
     ],
     "prompt_number": 34
    },
    {
     "cell_type": "markdown",
     "metadata": {},
     "source": [
      "We are going to define a line fitting regression using SrFit.\n",
      "At first we create a SrFit Profile object that holds the observed data."
     ]
    },
    {
     "cell_type": "code",
     "collapsed": false,
     "input": [
      "from diffpy.srfit.fitbase import Profile\n",
      "linedata = Profile()\n",
      "linedata.setObservedProfile(xobs, yobs, dyobs)"
     ],
     "language": "python",
     "metadata": {},
     "outputs": [],
     "prompt_number": 35
    },
    {
     "cell_type": "markdown",
     "metadata": {},
     "source": [
      "The second step is to create a FitContribution object, which associates observed profile with a mathematical model for the dependent variable."
     ]
    },
    {
     "cell_type": "code",
     "collapsed": false,
     "input": [
      "from diffpy.srfit.fitbase import FitContribution\n",
      "linefit = FitContribution('linefit')\n",
      "linefit.setProfile(linedata)\n",
      "linefit.setEquation(\"A * x + B\")"
     ],
     "language": "python",
     "metadata": {},
     "outputs": [],
     "prompt_number": 36
    },
    {
     "cell_type": "markdown",
     "metadata": {},
     "source": [
      " SrFit objects can be examined by calling their **show()** function.  SrFit\n",
      " parses the model equation and finds two parameters A, B at independent\n",
      " variable x.  The values of parameters A, B are at this stage undefined.\n"
     ]
    },
    {
     "cell_type": "code",
     "collapsed": false,
     "input": [
      "linefit.show()"
     ],
     "language": "python",
     "metadata": {},
     "outputs": [
      {
       "output_type": "stream",
       "stream": "stdout",
       "text": [
        "linefit\n",
        "-------------------------------------------------------------------------------\n",
        "A                    None\n",
        "B                    None\n",
        "dy                   [ 0.3  0.3  0.3  0.3  0.3  0.3  0.3  0.3  0.3  0.3  0.3  0\n",
        "x                    [-10.  -9.  -8.  -7.  -6.  -5.  -4.  -3.  -2.  -1.   0.   \n",
        "y                    [-1.87973528 -1.13103693 -1.11385601 -0.75130256  0.150951\n",
        "\n",
        "\n"
       ]
      }
     ],
     "prompt_number": 37
    },
    {
     "cell_type": "markdown",
     "metadata": {},
     "source": [
      "We can set A and B to some specific values and calculate model\n",
      "observations.  The x and y attributes of the FitContribution are \n",
      "the observed values, which may be re-sampled or truncated to a shorter \n",
      "fitting range."
     ]
    },
    {
     "cell_type": "code",
     "collapsed": false,
     "input": [
      "linefit.A\n",
      "linefit.A = 3\n",
      "linefit.B = 5\n",
      "print(linefit.A, linefit.A.value)\n",
      "print(linefit.B, linefit.B.value)"
     ],
     "language": "python",
     "metadata": {},
     "outputs": [
      {
       "output_type": "stream",
       "stream": "stdout",
       "text": [
        "Parameter(A) 3\n",
        "Parameter(B) 5\n"
       ]
      }
     ],
     "prompt_number": 38
    },
    {
     "cell_type": "markdown",
     "metadata": {},
     "source": [
      "`linefit.evaluate()` returns the modeled values and `linefit.residual()`,\n",
      "the difference between observed and modeled data scaled by estimated\n",
      "standard deviations."
     ]
    },
    {
     "cell_type": "code",
     "collapsed": false,
     "input": [
      "print(\"linefit.evaluate() =\", linefit.evaluate())\n",
      "print(\"linefit.residual() =\", linefit.residual())\n",
      "plot(xobs, yobs, 'x', linedata.x, linefit.evaluate(), '-')\n",
      "title('Line simulated at A=3, B=5')"
     ],
     "language": "python",
     "metadata": {},
     "outputs": [
      {
       "output_type": "stream",
       "stream": "stdout",
       "text": [
        "linefit.evaluate() = [-25. -22. -19. -16. -13. -10.  -7.  -4.  -1.   2.   5.   8.  11.  14.  17.\n",
        "  20.  23.  26.  29.  32.  35.]\n",
        "linefit.residual() = [-77.06754905 -69.56321024 -59.62047998 -50.82899148 -43.83650572\n",
        " -33.17242841 -26.82666622 -16.53371339 -10.04807972  -3.04683447\n",
        "   7.32345741  13.37317433  24.60310201  31.05580721  39.03302311\n",
        "  47.88653926  54.00343165  64.36897987  73.538106    81.06550056\n",
        "  89.69540609]\n"
       ]
      },
      {
       "metadata": {},
       "output_type": "pyout",
       "prompt_number": 39,
       "text": [
        "<matplotlib.text.Text at 0x108e92ad0>"
       ]
      },
      {
       "metadata": {},
       "output_type": "display_data",
       "png": "[encoded data removed]",
       "text": [
        "<matplotlib.figure.Figure at 0x108babb10>"
       ]
      }
     ],
     "prompt_number": 39
    },
    {
     "cell_type": "markdown",
     "metadata": {},
     "source": [
      " We want to find the optimum model parameters that fit the simulated curve\n",
      " to the observations.  This is done by associating FitContribution with\n",
      " a FitRecipe object.  FitRecipe can manage multiple fit contributions and\n",
      " optimize all models to fit their respective profiles."
     ]
    },
    {
     "cell_type": "code",
     "collapsed": false,
     "input": [
      "from diffpy.srfit.fitbase import FitRecipe\n",
      "rec = FitRecipe()"
     ],
     "language": "python",
     "metadata": {},
     "outputs": [],
     "prompt_number": 40
    },
    {
     "cell_type": "markdown",
     "metadata": {},
     "source": [
      "The `clearFitHooks()` function suppresses printout of iteration numbers.  The `addContribution()` function includes the specified FitContribution in the FitRecipe, which acts as a top-level manager of all associated fits. "
     ]
    },
    {
     "cell_type": "code",
     "collapsed": false,
     "input": [
      "rec.clearFitHooks()\n",
      "rec.addContribution(linefit)\n",
      "rec.show()"
     ],
     "language": "python",
     "metadata": {},
     "outputs": [
      {
       "output_type": "stream",
       "stream": "stdout",
       "text": [
        "fit\n",
        "\n",
        "  linefit\n",
        "  -----------------------------------------------------------------------------\n",
        "  A                    3\n",
        "  B                    5\n",
        "  dy                   [ 0.3  0.3  0.3  0.3  0.3  0.3  0.3  0.3  0.3  0.3  0.3 \n",
        "  x                    [-10.  -9.  -8.  -7.  -6.  -5.  -4.  -3.  -2.  -1.   0. \n",
        "  y                    [-1.87973528 -1.13103693 -1.11385601 -0.75130256  0.1509\n",
        "\n",
        "\n"
       ]
      }
     ],
     "prompt_number": 41
    },
    {
     "cell_type": "markdown",
     "metadata": {},
     "source": [
      " FitContributions may have many parameters.  We need to tell the recipe\n",
      " which of them should be controlled and potentially optimized in a fit."
     ]
    },
    {
     "cell_type": "code",
     "collapsed": false,
     "input": [
      "rec.addVar(rec.linefit.A)\n",
      "rec.addVar(rec.linefit.B)"
     ],
     "language": "python",
     "metadata": {},
     "outputs": [
      {
       "metadata": {},
       "output_type": "pyout",
       "prompt_number": 42,
       "text": [
        "<diffpy.srfit.fitbase.parameter.ParameterProxy at 0x108e78990>"
       ]
      }
     ],
     "prompt_number": 42
    },
    {
     "cell_type": "markdown",
     "metadata": {},
     "source": [
      " The call of the addVar function also created two attributes A and B for the rec object,\n",
      " which link to the A and B parameters of the linefit contribution.\n"
     ]
    },
    {
     "cell_type": "code",
     "collapsed": false,
     "input": [
      "print(\"rec.A =\", rec.A)\n",
      "print(\"rec.A.value =\", rec.A.value)"
     ],
     "language": "python",
     "metadata": {},
     "outputs": [
      {
       "output_type": "stream",
       "stream": "stdout",
       "text": [
        "rec.A = ParameterProxy(A)\n",
        "rec.A.value = 3\n"
       ]
      }
     ],
     "prompt_number": 43
    },
    {
     "cell_type": "markdown",
     "metadata": {},
     "source": [
      " The names of the declared variables are stored in the `rec.names` attribute\n",
      " and the corresponding values in `rec.values`."
     ]
    },
    {
     "cell_type": "code",
     "collapsed": false,
     "input": [
      "print(\"rec.values =\", rec.values)\n",
      "print(\"rec.names =\", rec.names)"
     ],
     "language": "python",
     "metadata": {},
     "outputs": [
      {
       "output_type": "stream",
       "stream": "stdout",
       "text": [
        "rec.values = [3 5]\n",
        "rec.names = ['A', 'B']\n"
       ]
      }
     ],
     "prompt_number": 44
    },
    {
     "cell_type": "markdown",
     "metadata": {},
     "source": [
      " Finally the recipe objects provides a residual() function to calculate\n",
      " the difference between the observed and simulated values.  The residual\n",
      " function can accept a list of new variable values in the same order as\n",
      " rec.names."
     ]
    },
    {
     "cell_type": "code",
     "collapsed": false,
     "input": [
      "print(\"rec.residual() =\", rec.residual())\n",
      "print(\"rec.residual([2, 4]) =\", rec.residual([2, 4]))"
     ],
     "language": "python",
     "metadata": {},
     "outputs": [
      {
       "output_type": "stream",
       "stream": "stdout",
       "text": [
        "rec.residual() = [-77.06754905 -69.56321024 -59.62047998 -50.82899148 -43.83650572\n",
        " -33.17242841 -26.82666622 -16.53371339 -10.04807972  -3.04683447\n",
        "   7.32345741  13.37317433  24.60310201  31.05580721  39.03302311\n",
        "  47.88653926  54.00343165  64.36897987  73.538106    81.06550056\n",
        "  89.69540609]\n",
        "rec.residual([2, 4]) = [-47.06754905 -42.89654357 -36.28714664 -30.82899148 -27.16983906\n",
        " -19.83909508 -16.82666622  -9.86704672  -6.71474639  -3.04683447\n",
        "   3.99012408   6.70650767  14.60310201  17.72247387  22.36635645\n",
        "  27.88653926  30.67009832  37.7023132   43.538106    47.73216723\n",
        "  53.02873942]\n"
       ]
      }
     ],
     "prompt_number": 45
    },
    {
     "cell_type": "markdown",
     "metadata": {},
     "source": [
      "The FitRecipe.residual function can be directly used with the scipy\n",
      "leastsq function for minimizing a sum of squares."
     ]
    },
    {
     "cell_type": "code",
     "collapsed": false,
     "input": [
      "from scipy.optimize import leastsq\n",
      "leastsq(rec.residual, rec.values)"
     ],
     "language": "python",
     "metadata": {},
     "outputs": [
      {
       "metadata": {},
       "output_type": "pyout",
       "prompt_number": 46,
       "text": [
        "(array([ 0.51459484,  3.06568473]), 3)"
       ]
      }
     ],
     "prompt_number": 46
    },
    {
     "cell_type": "markdown",
     "metadata": {},
     "source": [
      " Recipe variables and the linked line-function parameters are set to the\n",
      " new optimized values."
     ]
    },
    {
     "cell_type": "code",
     "collapsed": false,
     "input": [
      "print(rec.names, \"-->\", rec.values)\n",
      "linefit.show()"
     ],
     "language": "python",
     "metadata": {},
     "outputs": [
      {
       "output_type": "stream",
       "stream": "stdout",
       "text": [
        "['A', 'B'] --> [ 0.51459484  3.06568473]\n",
        "linefit\n",
        "-------------------------------------------------------------------------------\n",
        "A                    0.514594835204\n",
        "B                    3.06568473087\n",
        "dy                   [ 0.3  0.3  0.3  0.3  0.3  0.3  0.3  0.3  0.3  0.3  0.3  0\n",
        "x                    [-10.  -9.  -8.  -7.  -6.  -5.  -4.  -3.  -2.  -1.   0.   \n",
        "y                    [-1.87973528 -1.13103693 -1.11385601 -0.75130256  0.150951\n",
        "\n",
        "\n"
       ]
      }
     ],
     "prompt_number": 47
    },
    {
     "cell_type": "markdown",
     "metadata": {},
     "source": [
      " The calculated function is available in the `ycalc` attribute of the profile.\n",
      " It can be also accessed from the `linefit` contribution attribute of the\n",
      " recipe as `rec.linefit.profile.ycalc`."
     ]
    },
    {
     "cell_type": "code",
     "collapsed": false,
     "input": [
      "plot(linedata.x, linedata.y, 'x', linedata.x, linedata.ycalc, '-')\n",
      "title('Line fit using the leastsq least-squares optimizer')"
     ],
     "language": "python",
     "metadata": {},
     "outputs": [
      {
       "metadata": {},
       "output_type": "pyout",
       "prompt_number": 48,
       "text": [
        "<matplotlib.text.Text at 0x108f27b10>"
       ]
      },
      {
       "metadata": {},
       "output_type": "display_data",
       "png": "[encoded data removed]",
       "text": [
        "<matplotlib.figure.Figure at 0x108f12d50>"
       ]
      }
     ],
     "prompt_number": 48
    },
    {
     "cell_type": "markdown",
     "metadata": {},
     "source": [
      "The `FitRecipe.scalarResidual()` function returns the sum of squares and can\n",
      "be used with a minimizer that requires a scalar function:"
     ]
    },
    {
     "cell_type": "code",
     "collapsed": false,
     "input": [
      "from scipy.optimize import fmin\n",
      "fmin(rec.scalarResidual, [1, 1])\n",
      "print(rec.names, \"-->\", rec.values)\n",
      "plot(linedata.x, linedata.y, 'x', linedata.x, linedata.ycalc, '-')\n",
      "title('Line fit using the fmin scalar optimizer')"
     ],
     "language": "python",
     "metadata": {},
     "outputs": [
      {
       "output_type": "stream",
       "stream": "stdout",
       "text": [
        "Optimization terminated successfully.\n",
        "         Current function value: 22.639706\n",
        "         Iterations: 49\n",
        "         Function evaluations: 94\n",
        "['A', 'B'] --> [ 0.51459108  3.06576713]\n"
       ]
      },
      {
       "metadata": {},
       "output_type": "pyout",
       "prompt_number": 49,
       "text": [
        "<matplotlib.text.Text at 0x108fbbe10>"
       ]
      },
      {
       "metadata": {},
       "output_type": "display_data",
       "png": "[encoded data removed]",
       "text": [
        "<matplotlib.figure.Figure at 0x108f42850>"
       ]
      }
     ],
     "prompt_number": 49
    },
    {
     "cell_type": "markdown",
     "metadata": {},
     "source": [
      "For a converged fit recipe, the details of the fit can be extracted\n",
      " with the FitResults class."
     ]
    },
    {
     "cell_type": "code",
     "collapsed": false,
     "input": [
      "from diffpy.srfit.fitbase import FitResults\n",
      "res = FitResults(rec)\n",
      "print(res)"
     ],
     "language": "python",
     "metadata": {},
     "outputs": [
      {
       "output_type": "stream",
       "stream": "stdout",
       "text": [
        "Overall\n",
        "-------------------------------------------------------------------------------\n",
        "Residual       22.63970670\n",
        "Contributions  22.63970670\n",
        "Restraints     0.00000000\n",
        "Chi2           22.63970670\n",
        "Reduced Chi2   1.19156351\n",
        "Rw             0.07107863\n",
        "\n",
        "Variables\n",
        "-------------------------------------------------------------------------------\n",
        "A  5.14591078e-01 +/- 1.08112495e-02\n",
        "B  3.06576713e+00 +/- 6.54653667e-02\n",
        "\n",
        "Variable Correlations greater than 25%\n",
        "-------------------------------------------------------------------------------\n",
        "No correlations greater than 25%\n",
        "\n"
       ]
      }
     ],
     "prompt_number": 50
    },
    {
     "cell_type": "markdown",
     "metadata": {},
     "source": [
      "Variables defined in the recipe can be fixed to a constant value."
     ]
    },
    {
     "cell_type": "code",
     "collapsed": false,
     "input": [
      "rec.fix(B=0)"
     ],
     "language": "python",
     "metadata": {},
     "outputs": [],
     "prompt_number": 51
    },
    {
     "cell_type": "markdown",
     "metadata": {},
     "source": [
      "The fixed variables can be checked using the \"fixednames\" and\n",
      " \"fixedvalues\" attributes of a recipe."
     ]
    },
    {
     "cell_type": "code",
     "collapsed": false,
     "input": [
      "print(\"free:\", rec.names, \"-->\", rec.names)\n",
      "print(\"fixed:\", rec.fixednames, \"-->\", rec.fixedvalues)"
     ],
     "language": "python",
     "metadata": {},
     "outputs": [
      {
       "output_type": "stream",
       "stream": "stdout",
       "text": [
        "free: ['A'] --> ['A']\n",
        "fixed: ['B'] --> [0]\n"
       ]
      }
     ],
     "prompt_number": 52
    },
    {
     "cell_type": "markdown",
     "metadata": {},
     "source": [
      "The fit can be rerun with a constant variable B."
     ]
    },
    {
     "cell_type": "code",
     "collapsed": false,
     "input": [
      "leastsq(rec.residual, rec.values)\n",
      "print(FitResults(rec))\n",
      "plot(linedata.x, linedata.y, 'x', linedata.x, linedata.ycalc, '-')\n",
      "title('Line fit for variable B fixed to B=0')"
     ],
     "language": "python",
     "metadata": {},
     "outputs": [
      {
       "output_type": "stream",
       "stream": "stdout",
       "text": [
        "Overall\n",
        "-------------------------------------------------------------------------------\n",
        "Residual       2215.60504119\n",
        "Contributions  2215.60504119\n",
        "Restraints     0.00000000\n",
        "Chi2           2215.60504119\n",
        "Reduced Chi2   110.78025206\n",
        "Rw             0.70315298\n",
        "\n",
        "Variables\n",
        "-------------------------------------------------------------------------------\n",
        "A  5.14594836e-01 +/- 1.08112496e-02\n",
        "\n",
        "Fixed Variables\n",
        "-------------------------------------------------------------------------------\n",
        "B  0.00000000e+00\n",
        "\n",
        "Variable Correlations greater than 25%\n",
        "-------------------------------------------------------------------------------\n",
        "No correlations greater than 25%\n",
        "\n"
       ]
      },
      {
       "metadata": {},
       "output_type": "pyout",
       "prompt_number": 53,
       "text": [
        "<matplotlib.text.Text at 0x108fede10>"
       ]
      },
      {
       "metadata": {},
       "output_type": "display_data",
       "png": "[encoded data removed]",
       "text": [
        "<matplotlib.figure.Figure at 0x108f15e10>"
       ]
      }
     ],
     "prompt_number": 53
    },
    {
     "cell_type": "markdown",
     "metadata": {},
     "source": [
      "Fixed variables may be released with the `free()` function.\n",
      " Calling it as `free(\"all\")` releases all fixed variables."
     ]
    },
    {
     "cell_type": "code",
     "collapsed": false,
     "input": [
      "rec.free('all')"
     ],
     "language": "python",
     "metadata": {},
     "outputs": [],
     "prompt_number": 54
    },
    {
     "cell_type": "markdown",
     "metadata": {},
     "source": [
      "Variables may be constrained to a result of an expression."
     ]
    },
    {
     "cell_type": "code",
     "collapsed": false,
     "input": [
      "rec.constrain(rec.A, \"2 * B\")"
     ],
     "language": "python",
     "metadata": {},
     "outputs": [],
     "prompt_number": 55
    },
    {
     "cell_type": "markdown",
     "metadata": {},
     "source": [
      "Perform linear fit where the slope value must be two times the offset."
     ]
    },
    {
     "cell_type": "code",
     "collapsed": false,
     "input": [
      "leastsq(rec.residual, rec.values)\n",
      "print(FitResults(rec))\n",
      "plot(linedata.x, linedata.y, 'x', linedata.x, linedata.ycalc, '-')\n",
      "title('Line fit for variable A constrained to A = 2*B')"
     ],
     "language": "python",
     "metadata": {},
     "outputs": [
      {
       "output_type": "stream",
       "stream": "stdout",
       "text": [
        "Overall\n",
        "-------------------------------------------------------------------------------\n",
        "Residual       1850.48628512\n",
        "Contributions  1850.48628512\n",
        "Restraints     0.00000000\n",
        "Chi2           1850.48628512\n",
        "Reduced Chi2   92.52431426\n",
        "Rw             0.64260867\n",
        "\n",
        "Variables\n",
        "-------------------------------------------------------------------------------\n",
        "B  2.76315842e-01 +/- 5.38729020e-03\n",
        "\n",
        "Variable Correlations greater than 25%\n",
        "-------------------------------------------------------------------------------\n",
        "No correlations greater than 25%\n",
        "\n"
       ]
      },
      {
       "metadata": {},
       "output_type": "pyout",
       "prompt_number": 56,
       "text": [
        "<matplotlib.text.Text at 0x1090e1850>"
       ]
      },
      {
       "metadata": {},
       "output_type": "display_data",
       "png": "[encoded data removed]",
       "text": [
        "<matplotlib.figure.Figure at 0x108de3e50>"
       ]
      }
     ],
     "prompt_number": 56
    },
    {
     "cell_type": "markdown",
     "metadata": {},
     "source": [
      "Constraint expressions can be removed by calling the unconstrain function."
     ]
    },
    {
     "cell_type": "code",
     "collapsed": false,
     "input": [
      "rec.unconstrain(rec.A)"
     ],
     "language": "python",
     "metadata": {},
     "outputs": [],
     "prompt_number": 57
    },
    {
     "cell_type": "markdown",
     "metadata": {},
     "source": [
      " Variables may be restrained to a specific range.  Here \"ub\" is the upper\n",
      " boundary and \"sig\" acts as a standard deviation for ((x - ub)/sig)**2\n",
      " penalty function."
     ]
    },
    {
     "cell_type": "code",
     "collapsed": false,
     "input": [
      "arst = rec.restrain(rec.A, ub=0.2, sig=0.001)"
     ],
     "language": "python",
     "metadata": {},
     "outputs": [],
     "prompt_number": 58
    },
    {
     "cell_type": "markdown",
     "metadata": {},
     "source": [
      "Perform fit with the line slope restrained to a maximum value of 0.2:"
     ]
    },
    {
     "cell_type": "code",
     "collapsed": false,
     "input": [
      "leastsq(rec.residual, rec.values)\n",
      "print(FitResults(rec))\n",
      "plot(linedata.x, linedata.y, 'x', linedata.x, linedata.ycalc, '-')\n",
      "title('Line fit with A restrained to an upper bound of 0.2')"
     ],
     "language": "python",
     "metadata": {},
     "outputs": [
      {
       "output_type": "stream",
       "stream": "stdout",
       "text": [
        "Overall\n",
        "-------------------------------------------------------------------------------\n",
        "Residual       862.19937125\n",
        "Contributions  855.07740431\n",
        "Restraints     7.12196694\n",
        "Chi2           855.07740431\n",
        "Reduced Chi2   42.75387022\n",
        "Rw             0.43682387\n",
        "\n",
        "Variables\n",
        "-------------------------------------------------------------------------------\n",
        "A  2.02668701e-01 +/- 9.95749477e-04\n",
        "B  3.06568473e+00 +/- 6.54653671e-02\n",
        "\n",
        "Variable Correlations greater than 25%\n",
        "-------------------------------------------------------------------------------\n",
        "No correlations greater than 25%\n",
        "\n"
       ]
      },
      {
       "metadata": {},
       "output_type": "pyout",
       "prompt_number": 59,
       "text": [
        "<matplotlib.text.Text at 0x109179110>"
       ]
      },
      {
       "metadata": {},
       "output_type": "display_data",
       "png": "[encoded data removed]",
       "text": [
        "<matplotlib.figure.Figure at 0x108f1ae90>"
       ]
      }
     ],
     "prompt_number": 59
    },
    {
     "cell_type": "code",
     "collapsed": false,
     "input": [],
     "language": "python",
     "metadata": {},
     "outputs": [],
     "prompt_number": 59
    }
   ],
   "metadata": {}
  }
 ]
}